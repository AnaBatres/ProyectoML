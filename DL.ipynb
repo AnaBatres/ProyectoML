{
 "cells": [
  {
   "cell_type": "markdown",
   "id": "32d03315",
   "metadata": {},
   "source": [
    "# Paso a paso para conectarte a la API de Gmail con Python\n",
    "\n",
    "## 1. Crear proyecto y credenciales en Google Cloud Console\n",
    "\n",
    "1. Ve a [https://console.cloud.google.com/](https://console.cloud.google.com/)\n",
    "2. Crea un nuevo proyecto (p. ej., **\"GmailAPI-Project\"**)\n",
    "3. En el menú lateral, selecciona:  \n",
    "   **APIs y servicios > Biblioteca**\n",
    "4. Busca **Gmail API** y actívala\n",
    "5. Luego ve a:  \n",
    "   **APIs y servicios > Credenciales**\n",
    "6. Haz clic en **Crear credenciales > ID de cliente OAuth**\n",
    "7. Configura la pantalla de consentimiento OAuth (nombre, email, etc.)\n",
    "8. Como tipo de aplicación, elige **Aplicación de escritorio** (si es para pruebas locales)\n",
    "9. Descarga el archivo `credentials.json`\n",
    "\n",
    "---\n",
    "\n",
    "## `auth.py` y `gmail_api.py`\n",
    "\n",
    "- Se encargan de la autenticación y lectura de correos con la API de Gmail.\n",
    "- `gmail_api.py` usa `token.json`, mientras que `auth.py` usa `token.pickle`.  \n",
    "  ➤ ⚠️ **Hay redundancia/confusión aquí; solo uno debería usarse.**\n",
    "\n",
    "---\n",
    "\n",
    "## `models.py`\n",
    "\n",
    "- Carga los modelos de `transformers` para tres tareas de clasificación distintas.\n",
    "- Preprocesa texto (asunto + cuerpo).\n",
    "- Clasifica el texto y devuelve predicciones con probabilidad.\n",
    "\n",
    "---\n",
    "\n",
    "## `app.py`\n",
    "\n",
    "Define las rutas web de Flask:\n",
    "\n",
    "- `/`: Muestra los correos clasificados.\n",
    "- `/api/correos`: Devuelve correos en formato JSON (filtrables por query string).\n",
    "- `/filtro/<tipo>/<valor>`: Muestra los correos filtrados por tipo (sentimiento, prioridad, categoría).\n"
   ]
  }
 ],
 "metadata": {
  "language_info": {
   "name": "python"
  }
 },
 "nbformat": 4,
 "nbformat_minor": 5
}
